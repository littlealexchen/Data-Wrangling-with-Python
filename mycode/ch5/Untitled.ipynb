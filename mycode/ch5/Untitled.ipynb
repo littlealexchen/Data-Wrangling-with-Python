{
 "cells": [
  {
   "cell_type": "code",
   "execution_count": 1,
   "metadata": {},
   "outputs": [],
   "source": [
    "import pdfminer"
   ]
  },
  {
   "cell_type": "code",
   "execution_count": 2,
   "metadata": {},
   "outputs": [
    {
     "name": "stdout",
     "output_type": "stream",
     "text": [
      "Help on package pdfminer:\n",
      "\n",
      "NAME\n",
      "    pdfminer\n",
      "\n",
      "FILE\n",
      "    f:\\love_space\\anaconda3\\envs\\python27\\lib\\site-packages\\pdfminer\\__init__.py\n",
      "\n",
      "PACKAGE CONTENTS\n",
      "    arcfour\n",
      "    ascii85\n",
      "    ccitt\n",
      "    cmapdb\n",
      "    converter\n",
      "    encodingdb\n",
      "    fontmetrics\n",
      "    glyphlist\n",
      "    image\n",
      "    latin_enc\n",
      "    layout\n",
      "    lzw\n",
      "    pdfcolor\n",
      "    pdfdevice\n",
      "    pdfdocument\n",
      "    pdffont\n",
      "    pdfinterp\n",
      "    pdfpage\n",
      "    pdfparser\n",
      "    pdftypes\n",
      "    psparser\n",
      "    rijndael\n",
      "    runlength\n",
      "    utils\n",
      "\n",
      "DATA\n",
      "    __version__ = '20140328'\n",
      "\n",
      "VERSION\n",
      "    20140328\n",
      "\n",
      "\n"
     ]
    }
   ],
   "source": [
    "help(pdfminer)"
   ]
  },
  {
   "cell_type": "code",
   "execution_count": 4,
   "metadata": {},
   "outputs": [],
   "source": [
    "from pdfminer.pdfparser import PDFParser\n",
    "from pdfminer.pdfdocument import PDFDocument\n",
    "from pdfminer.pdfpage import PDFPage\n",
    "from pdfminer.pdfpage import PDFTextExtractionNotAllowed\n",
    "from pdfminer.pdfinterp import PDFResourceManager\n",
    "from pdfminer.pdfinterp import PDFPageInterpreter\n",
    "from pdfminer.pdfdevice import PDFDevice\n",
    "from pdfminer.layout import *\n",
    "from pdfminer.converter import PDFPageAggregator\n",
    "\n",
    "\n",
    "fp = open('../../data/chp5/EN-FINAL Table 9.pdf', 'rb')\n",
    "#创建一个PDF文档解析器对象\n",
    "parser = PDFParser(fp)\n",
    "#创建一个PDF文档对象存储文档结构\n",
    "#提供密码初始化，没有就不用传该参数\n",
    "document = PDFDocument(parser)\n",
    "#检查文件是否允许文本提取\n",
    "if not document.is_extractable:\n",
    "    raise PDFTextExtractionNotAllowed\n",
    "else:\n",
    "    # 创建一个PDF资源管理器对象来存储共赏资源\n",
    "    rsrcmgr=PDFResourceManager()\n",
    "    # 设定参数进行分析\n",
    "    laparams=LAParams()\n",
    "    # 创建一个PDF设备对象\n",
    "    # device=PDFDevice(rsrcmgr)\n",
    "    device=PDFPageAggregator(rsrcmgr,laparams=laparams)\n",
    "    # 创建一个PDF解释器对象\n",
    "    interpreter=PDFPageInterpreter(rsrcmgr,device)\n",
    "    # 处理每一页\n",
    "    for page in PDFPage.create_pages(document):\n",
    "        interpreter.process_page(page)\n",
    "        # 接受该页面的LTPage对象\n",
    "        layout=device.get_result()\n",
    "        for x in layout:\n",
    "            if(isinstance(x,LTTextBoxHorizontal)):\n",
    "                with open('en-final-table9.txt','a') as f:\n",
    "                    f.write(x.get_text().encode('utf-8')+'\\n')"
   ]
  },
  {
   "cell_type": "code",
   "execution_count": null,
   "metadata": {},
   "outputs": [],
   "source": []
  }
 ],
 "metadata": {
  "kernelspec": {
   "display_name": "Python 2",
   "language": "python",
   "name": "python27"
  },
  "language_info": {
   "codemirror_mode": {
    "name": "ipython",
    "version": 2
   },
   "file_extension": ".py",
   "mimetype": "text/x-python",
   "name": "python",
   "nbconvert_exporter": "python",
   "pygments_lexer": "ipython2",
   "version": "2.7.13"
  }
 },
 "nbformat": 4,
 "nbformat_minor": 2
}
