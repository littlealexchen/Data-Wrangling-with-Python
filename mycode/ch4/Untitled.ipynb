{
 "cells": [
  {
   "cell_type": "code",
   "execution_count": 1,
   "metadata": {},
   "outputs": [],
   "source": [
    "import xlrd"
   ]
  },
  {
   "cell_type": "code",
   "execution_count": 4,
   "metadata": {},
   "outputs": [],
   "source": [
    "book = xlrd.open_workbook(r'../../data/chp4/SOWC 2014 Stat Tables_Table 9.xlsx')\n"
   ]
  },
  {
   "cell_type": "code",
   "execution_count": 5,
   "metadata": {},
   "outputs": [
    {
     "name": "stdout",
     "output_type": "stream",
     "text": [
      "Data Notes\n",
      "Table 9 \n"
     ]
    }
   ],
   "source": [
    "for sheet in book.sheets():\n",
    "    print sheet.name"
   ]
  },
  {
   "cell_type": "code",
   "execution_count": 6,
   "metadata": {},
   "outputs": [],
   "source": [
    "sheet = book.sheet_by_name('Table 9 ')"
   ]
  },
  {
   "cell_type": "code",
   "execution_count": 7,
   "metadata": {},
   "outputs": [
    {
     "name": "stdout",
     "output_type": "stream",
     "text": [
      "['__class__', '__delattr__', '__dict__', '__doc__', '__format__', '__getattribute__', '__hash__', '__init__', '__module__', '__new__', '__reduce__', '__reduce_ex__', '__repr__', '__setattr__', '__sizeof__', '__str__', '__subclasshook__', '__weakref__', '_cell_attr_to_xfx', '_cell_types', '_cell_values', '_cell_xf_indexes', '_dimncols', '_dimnrows', '_first_full_rowx', '_ixfe', '_maxdatacolx', '_maxdatarowx', '_position', '_repr_these', '_xf_index_stats', '_xf_index_to_xl_type_map', 'automatic_grid_line_colour', 'bf', 'biff_version', 'book', 'bt', 'cached_normal_view_mag_factor', 'cached_page_break_preview_mag_factor', 'cell', 'cell_note_map', 'cell_type', 'cell_value', 'cell_xf_index', 'col', 'col_label_ranges', 'col_slice', 'col_types', 'col_values', 'colinfo_map', 'columns_from_right_to_left', 'computed_column_width', 'cooked_normal_view_mag_factor', 'cooked_page_break_preview_mag_factor', 'default_additional_space_above', 'default_additional_space_below', 'default_row_height', 'default_row_height_mismatch', 'default_row_hidden', 'defcolwidth', 'dump', 'fake_XF_from_BIFF20_cell_attr', 'first_visible_colx', 'first_visible_rowx', 'fixed_BIFF2_xfindex', 'formatting_info', 'gcw', 'get_rows', 'gridline_colour_index', 'gridline_colour_rgb', 'handle_feat11', 'handle_hlink', 'handle_msodrawingetc', 'handle_note', 'handle_obj', 'handle_quicktip', 'handle_txo', 'has_pane_record', 'horizontal_page_breaks', 'horz_split_first_visible', 'horz_split_pos', 'hyperlink_list', 'hyperlink_map', 'insert_new_BIFF20_xf', 'logfile', 'merged_cells', 'name', 'ncols', 'nrows', 'number', 'panes_are_frozen', 'put_cell', 'put_cell_ragged', 'put_cell_unragged', 'ragged_rows', 'read', 'remove_splits_if_pane_freeze_is_removed', 'req_fmt_info', 'rich_text_runlist_map', 'row', 'row_label_ranges', 'row_len', 'row_slice', 'row_types', 'row_values', 'rowinfo_map', 'scl_mag_factor', 'sheet_selected', 'sheet_visible', 'show_formulas', 'show_grid_lines', 'show_in_page_break_preview', 'show_outline_symbols', 'show_sheet_headers', 'show_zero_values', 'split_active_pane', 'standardwidth', 'string_record_contents', 'tidy_dimensions', 'update_cooked_mag_factors', 'utter_max_cols', 'utter_max_rows', 'verbosity', 'vert_split_first_visible', 'vert_split_pos', 'vertical_page_breaks', 'visibility']\n"
     ]
    }
   ],
   "source": [
    "print dir(sheet)"
   ]
  },
  {
   "cell_type": "code",
   "execution_count": 8,
   "metadata": {},
   "outputs": [
    {
     "name": "stdout",
     "output_type": "stream",
     "text": [
      "303\n"
     ]
    }
   ],
   "source": [
    "print sheet.nrows"
   ]
  },
  {
   "cell_type": "code",
   "execution_count": 9,
   "metadata": {},
   "outputs": [
    {
     "name": "stdout",
     "output_type": "stream",
     "text": [
      "[u'', u'TABLE 9. CHILD PROTECTION', u'', u'', u'', u'', u'', u'', u'', u'', u'', u'', u'', u'', u'', u'', u'', u'', u'', u'', u'', u'', u'', u'', u'', u'', u'', u'', u'', u'', u'', u'', u'', u'', u'', u'', u'', u'', u'', u'', u'', u'', u'', u'']\n",
      "[u'', u'', u'TABLEAU 9. PROTECTION DE L\\u2019ENFANT', u'', u'', u'', u'', u'', u'', u'', u'', u'', u'', u'', u'', u'', u'', u'', u'', u'', u'', u'', u'', u'', u'', u'', u'', u'', u'', u'', u'', u'', u'', u'', u'', u'', u'', u'', u'', u'', u'', u'', u'', u'']\n",
      "[u'', u'', u'', u'TABLA 9. PROTECCI\\xd3N INFANTIL', u'', u'', u'', u'', u'', u'', u'', u'', u'', u'', u'', u'', u'', u'', u'', u'', u'', u'', u'', u'', u'', u'', u'', u'', u'', u'', u'', u'', u'', u'', u'', u'', u'', u'', u'', u'', u'', u'', u'', u'']\n",
      "[u'', u'', u'', u'', u'', u'', u'', u'', u'', u'', u'', u'', u'', u'', u'', u'', u'', u'', u'', u'', u'', u'', u'', u'', u'', u'', u'', u'', u'', u'', u'', u'', u'', u'', u'', u'', u'', u'', u'', u'', u'', u'', u'', u'']\n",
      "[u'', u'Countries and areas', u'', u'', u'Child labour (%)+\\n2005\\u20132012*', u'', u'', u'', u'', u'', u'Child marriage (%)\\n2005\\u20132012*', u'', u'', u'', u'Birth registration (%)+\\n2005\\u20132012*', u'', u'Female genital mutilation/cutting (%)+\\n2002\\u20132012*', u'', u'', u'', u'', u'', u'Justification of wife beating (%)\\n 2005\\u20132012*', u'', u'', u'', u'Violent discipline (%)+\\n2005\\u20132012*', u'', u'', u'', u'', u'', u'', u'', u'', u'', u'', u'', u'', u'', u'', u'', u'', u'']\n",
      "[u'', u'', u'', u'', u'', u'', u'', u'', u'', u'', u'', u'', u'', u'', u'', u'', u'prevalence', u'', u'', u'', u'attitudes', u'', u'', u'', u'', u'', u'', u'', u'', u'', u'', u'', u'', u'', u'', u'', u'', u'', u'', u'', u'', u'', u'', u'']\n",
      "[u'', u'', u'', u'', u'total', u'', u'male', u'', u'female', u'', u'married by 15', u'', u'married by 18', u'', u'total', u'', u'womena  ', u'', u'girlsb ', u'', u'support for the practicec', u'', u'male', u'', u'female', u'', u'total', u'', u'male', u'', u'female', u'', u'', u'', u'', u'', u'', u'', u'', u'', u'', u'', u'', u'']\n",
      "[u'', u'FRENCH HEADINGS', u'Pays et zones', u'', u'Travail des enfants (%)+\\n2005\\u20132012*', u'', u'', u'', u'', u'', u'Mariage d\\u2019enfants (%)\\n2005\\u20132012*', u'', u'', u'', u'Enregistrement\\ndes naissances\\n(%)+\\n2005\\u20132012*\\n', u'', u'Mutilations g\\xe9nitales f\\xe9minines/excision (%)+\\n2002\\u20132012*', u'', u'', u'', u'', u'', u'Justification de la\\nviolence conjugale (%)\\n2005\\u20132012*', u'', u'', u'', u'Discipline impos\\xe9e par la violence (%)+\\n2005\\u20132012*', u'', u'', u'', u'', u'', u'', u'', u'', u'', u'', u'', u'', u'', u'', u'', u'', u'']\n",
      "[u'', u'', u'', u'', u'', u'', u'', u'', u'', u'', u'', u'', u'', u'', u'', u'', u'pr\\xe9valence', u'', u'', u'', u'attitudes', u'', u'', u'', u'', u'', u'', u'', u'', u'', u'', u'', u'', u'', u'', u'', u'', u'', u'', u'', u'', u'', u'', u'']\n",
      "[u'', u'', u'', u'', u'total', u'', u'gar\\xe7ons', u'', u'filles', u'', u'mari\\xe9 \\xe0  15 ans\\n', u'', u'mari\\xe9 \\xe0  18 ans', u'', u'total', u'', u'femmes a  ', u'', u'filles b ', u'', u'soutien \\xe0 cette pratique c', u'', u'hommes', u'', u'femmes', u'', u'total', u'', u'gar\\xe7ons', u'', u'filles', u'', u'', u'', u'', u'', u'', u'', u'', u'', u'', u'', u'', u'']\n"
     ]
    }
   ],
   "source": [
    "for i in range(10):\n",
    "    print sheet.row_values(i)"
   ]
  },
  {
   "cell_type": "code",
   "execution_count": null,
   "metadata": {},
   "outputs": [],
   "source": []
  }
 ],
 "metadata": {
  "kernelspec": {
   "display_name": "Python 2",
   "language": "python",
   "name": "python27"
  },
  "language_info": {
   "codemirror_mode": {
    "name": "ipython",
    "version": 2
   },
   "file_extension": ".py",
   "mimetype": "text/x-python",
   "name": "python",
   "nbconvert_exporter": "python",
   "pygments_lexer": "ipython2",
   "version": "2.7.13"
  }
 },
 "nbformat": 4,
 "nbformat_minor": 2
}
